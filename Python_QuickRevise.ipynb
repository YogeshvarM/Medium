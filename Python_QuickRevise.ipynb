{
 "cells": [
  {
   "cell_type": "code",
   "execution_count": 3,
   "id": "e1617995",
   "metadata": {},
   "outputs": [
    {
     "data": {
      "text/plain": [
       "'Hope we all follow the rules to make the readability easy'"
      ]
     },
     "execution_count": 3,
     "metadata": {},
     "output_type": "execute_result"
    }
   ],
   "source": [
    "assigning_the_variable='Hope we all follow the rules to make the readability easy'\n",
    "assigning_the_variable"
   ]
  },
  {
   "cell_type": "code",
   "execution_count": 4,
   "id": "f78d2590",
   "metadata": {},
   "outputs": [
    {
     "ename": "SyntaxError",
     "evalue": "invalid syntax (<ipython-input-4-ed4d4aeee121>, line 1)",
     "output_type": "error",
     "traceback": [
      "\u001b[1;36m  File \u001b[1;32m\"<ipython-input-4-ed4d4aeee121>\"\u001b[1;36m, line \u001b[1;32m1\u001b[0m\n\u001b[1;33m    string_using_triple_quotes='Hello I'm Yogeshvar'\u001b[0m\n\u001b[1;37m                                        ^\u001b[0m\n\u001b[1;31mSyntaxError\u001b[0m\u001b[1;31m:\u001b[0m invalid syntax\n"
     ]
    }
   ],
   "source": [
    "string_using_triple_quotes='Hello I'm Yogeshvar'"
   ]
  },
  {
   "cell_type": "code",
   "execution_count": 5,
   "id": "3ccc04e0",
   "metadata": {},
   "outputs": [
    {
     "data": {
      "text/plain": [
       "\"Hello I'm Yogeshvar\""
      ]
     },
     "execution_count": 5,
     "metadata": {},
     "output_type": "execute_result"
    }
   ],
   "source": [
    "string_using_triple_quotes='''Hello I'm Yogeshvar'''\n",
    "string_using_triple_quotes"
   ]
  },
  {
   "cell_type": "code",
   "execution_count": 6,
   "id": "35be62f3",
   "metadata": {},
   "outputs": [
    {
     "data": {
      "text/plain": [
       "'H'"
      ]
     },
     "execution_count": 6,
     "metadata": {},
     "output_type": "execute_result"
    }
   ],
   "source": [
    "string_using_triple_quotes[0]"
   ]
  },
  {
   "cell_type": "code",
   "execution_count": 7,
   "id": "90a89f38",
   "metadata": {},
   "outputs": [
    {
     "data": {
      "text/plain": [
       "'r'"
      ]
     },
     "execution_count": 7,
     "metadata": {},
     "output_type": "execute_result"
    }
   ],
   "source": [
    "string_using_triple_quotes[-1] #To_get_the_last_letter.We_can_use_-1"
   ]
  },
  {
   "cell_type": "code",
   "execution_count": 9,
   "id": "0b9252d6",
   "metadata": {},
   "outputs": [],
   "source": [
    "#Slicing [start:end] #IT will print everything for the given condition. \n",
    "#But we need to remember it will print upto end index number \n",
    "#[0:2] - Will print from 0 to 1. Wont consider the last index."
   ]
  },
  {
   "cell_type": "code",
   "execution_count": 10,
   "id": "93258616",
   "metadata": {},
   "outputs": [
    {
     "data": {
      "text/plain": [
       "\"Hello I'\""
      ]
     },
     "execution_count": 10,
     "metadata": {},
     "output_type": "execute_result"
    }
   ],
   "source": [
    "string_using_triple_quotes[0:8]"
   ]
  },
  {
   "cell_type": "code",
   "execution_count": 11,
   "id": "086e37cb",
   "metadata": {},
   "outputs": [
    {
     "data": {
      "text/plain": [
       "\"Hello I'\""
      ]
     },
     "execution_count": 11,
     "metadata": {},
     "output_type": "execute_result"
    }
   ],
   "source": [
    "string_using_triple_quotes[:8]"
   ]
  },
  {
   "cell_type": "code",
   "execution_count": 12,
   "id": "4e0eb6c2",
   "metadata": {},
   "outputs": [
    {
     "data": {
      "text/plain": [
       "\"Hello I'm Yogeshvar\""
      ]
     },
     "execution_count": 12,
     "metadata": {},
     "output_type": "execute_result"
    }
   ],
   "source": [
    "string_using_triple_quotes[:]"
   ]
  },
  {
   "cell_type": "code",
   "execution_count": 14,
   "id": "dec9e0f1",
   "metadata": {},
   "outputs": [
    {
     "data": {
      "text/plain": [
       "\"ravhsegoY m'I olleH\""
      ]
     },
     "execution_count": 14,
     "metadata": {},
     "output_type": "execute_result"
    }
   ],
   "source": [
    "string_using_triple_quotes[::-1] #To reverse the string"
   ]
  },
  {
   "cell_type": "code",
   "execution_count": 17,
   "id": "7dc70701",
   "metadata": {},
   "outputs": [
    {
     "data": {
      "text/plain": [
       "\"Hello I'm Yogeshvar\""
      ]
     },
     "execution_count": 17,
     "metadata": {},
     "output_type": "execute_result"
    }
   ],
   "source": [
    "string_using_triple_quotes[::1]"
   ]
  },
  {
   "cell_type": "code",
   "execution_count": 18,
   "id": "6157ac41",
   "metadata": {},
   "outputs": [
    {
     "data": {
      "text/plain": [
       "'HloImYgsvr'"
      ]
     },
     "execution_count": 18,
     "metadata": {},
     "output_type": "execute_result"
    }
   ],
   "source": [
    "string_using_triple_quotes[::2] #by specifying step size"
   ]
  },
  {
   "cell_type": "code",
   "execution_count": 19,
   "id": "55e890fb",
   "metadata": {},
   "outputs": [
    {
     "data": {
      "text/plain": [
       "'Hello this is Yogeshvar'"
      ]
     },
     "execution_count": 19,
     "metadata": {},
     "output_type": "execute_result"
    }
   ],
   "source": [
    "placeholder_example='''Hello this is %s'''%'Yogeshvar'\n",
    "placeholder_example"
   ]
  },
  {
   "cell_type": "code",
   "execution_count": 21,
   "id": "0ead05fb",
   "metadata": {},
   "outputs": [
    {
     "data": {
      "text/plain": [
       "'Hello this is Yogeshvar'"
      ]
     },
     "execution_count": 21,
     "metadata": {},
     "output_type": "execute_result"
    }
   ],
   "source": [
    "a='Yogeshvar'\n",
    "placeholder_example='''Hello this is %s'''%a\n",
    "placeholder_example"
   ]
  },
  {
   "cell_type": "code",
   "execution_count": 22,
   "id": "3d39ddc5",
   "metadata": {},
   "outputs": [
    {
     "data": {
      "text/plain": [
       "\"Hello this is Yogeshvar and I'm 22 years old \""
      ]
     },
     "execution_count": 22,
     "metadata": {},
     "output_type": "execute_result"
    }
   ],
   "source": [
    "a='Yogeshvar'\n",
    "b=22\n",
    "placeholder_example='''Hello this is %s and I'm %d years old '''%(a,b)\n",
    "placeholder_example"
   ]
  },
  {
   "cell_type": "code",
   "execution_count": 26,
   "id": "478a3bf5",
   "metadata": {},
   "outputs": [
    {
     "data": {
      "text/plain": [
       "\"Hello this is Yogeshvar and I use this 'Take a chill pill buddy' pharse more\""
      ]
     },
     "execution_count": 26,
     "metadata": {},
     "output_type": "execute_result"
    }
   ],
   "source": [
    "a='Yogeshvar'\n",
    "b='Take a chill pill buddy'\n",
    "placeholder_example='''Hello this is %s and I use this %r pharse more'''%(a,b)\n",
    "placeholder_example"
   ]
  },
  {
   "cell_type": "code",
   "execution_count": 27,
   "id": "8fee672a",
   "metadata": {},
   "outputs": [
    {
     "data": {
      "text/plain": [
       "'Hello this is Yogeshvar'"
      ]
     },
     "execution_count": 27,
     "metadata": {},
     "output_type": "execute_result"
    }
   ],
   "source": [
    "dot_Format_example=\"Hello this is {}\".format('Yogeshvar')\n",
    "dot_Format_example"
   ]
  },
  {
   "cell_type": "code",
   "execution_count": 28,
   "id": "4c0718a9",
   "metadata": {},
   "outputs": [
    {
     "data": {
      "text/plain": [
       "\"Hello this is Yogeshvar and I'm 22 years old\""
      ]
     },
     "execution_count": 28,
     "metadata": {},
     "output_type": "execute_result"
    }
   ],
   "source": [
    "dot_Format_example=\"Hello this is {} and I'm {} years old\".format('Yogeshvar',22)\n",
    "dot_Format_example"
   ]
  },
  {
   "cell_type": "code",
   "execution_count": 30,
   "id": "d054b957",
   "metadata": {},
   "outputs": [
    {
     "data": {
      "text/plain": [
       "\"Hello this is Yogeshvar and I'm 22 year old\""
      ]
     },
     "execution_count": 30,
     "metadata": {},
     "output_type": "execute_result"
    }
   ],
   "source": [
    "a='Yogeshvar'\n",
    "b=22\n",
    "dot_Format_example=\"Hello this is {} and I'm {} year old\".format(a,b)\n",
    "dot_Format_example"
   ]
  },
  {
   "cell_type": "code",
   "execution_count": 34,
   "id": "f97fed78",
   "metadata": {},
   "outputs": [
    {
     "data": {
      "text/plain": [
       "\"Take chill pill buddy is my fav pharse. Whenever i'm sad i use this Take chill pill buddy pharse more\""
      ]
     },
     "execution_count": 34,
     "metadata": {},
     "output_type": "execute_result"
    }
   ],
   "source": [
    "dot_Format_Example=\"{a} is my fav pharse. Whenever i'm sad i use this {a} pharse more\".format(a='Take chill pill buddy')\n",
    "dot_Format_Example"
   ]
  },
  {
   "cell_type": "code",
   "execution_count": 35,
   "id": "a64dbe58",
   "metadata": {},
   "outputs": [
    {
     "name": "stdout",
     "output_type": "stream",
     "text": [
      "Take chill pill buddy is my fav pharse. Whenever i'm sad i use this Take chill pill buddy pharse more\n"
     ]
    }
   ],
   "source": [
    "print(dot_Format_Example) #If we want to avoid quotes in output then we can use 'print'"
   ]
  },
  {
   "cell_type": "code",
   "execution_count": 37,
   "id": "87e0d6a4",
   "metadata": {},
   "outputs": [
    {
     "data": {
      "text/plain": [
       "\"Hello this is Yogeshvar and I'm 22 year old\""
      ]
     },
     "execution_count": 37,
     "metadata": {},
     "output_type": "execute_result"
    }
   ],
   "source": [
    "a='Yogeshvar'\n",
    "b=22\n",
    "f_string_example=f\"Hello this is {a} and I'm {b} year old\"\n",
    "f_string_example"
   ]
  },
  {
   "cell_type": "code",
   "execution_count": 40,
   "id": "84fbec4e",
   "metadata": {},
   "outputs": [
    {
     "data": {
      "text/plain": [
       "\"Hello this is Yogeshvar and I use this 'Take a chill pill buddy' pharse more\""
      ]
     },
     "execution_count": 40,
     "metadata": {},
     "output_type": "execute_result"
    }
   ],
   "source": [
    "a='Yogeshvar'\n",
    "b='Take a chill pill buddy'\n",
    "f_string_example=f'''Hello this is {a} and I use this {b!r} pharse more'''\n",
    "f_string_example"
   ]
  },
  {
   "cell_type": "code",
   "execution_count": 47,
   "id": "74dd7b0a",
   "metadata": {},
   "outputs": [
    {
     "data": {
      "text/plain": [
       "['Yogeshvar', 'is', 'good', 'boy']"
      ]
     },
     "execution_count": 47,
     "metadata": {},
     "output_type": "execute_result"
    }
   ],
   "source": [
    "list_example=['Yogeshvar','is','good','boy']\n",
    "list_example"
   ]
  },
  {
   "cell_type": "code",
   "execution_count": 46,
   "id": "27320076",
   "metadata": {},
   "outputs": [
    {
     "data": {
      "text/plain": [
       "[\" I'm \", 22, 'years', 'old']"
      ]
     },
     "execution_count": 46,
     "metadata": {},
     "output_type": "execute_result"
    }
   ],
   "source": [
    "list_example=[''' I'm ''',22,'years','old']\n",
    "list_example"
   ]
  },
  {
   "cell_type": "code",
   "execution_count": 48,
   "id": "aef6d9b3",
   "metadata": {},
   "outputs": [
    {
     "data": {
      "text/plain": [
       "\" I'm \""
      ]
     },
     "execution_count": 48,
     "metadata": {},
     "output_type": "execute_result"
    }
   ],
   "source": [
    "list_example=[''' I'm ''',22,'years','old']\n",
    "list_example[0]"
   ]
  },
  {
   "cell_type": "code",
   "execution_count": 49,
   "id": "8acb018f",
   "metadata": {},
   "outputs": [
    {
     "data": {
      "text/plain": [
       "'old'"
      ]
     },
     "execution_count": 49,
     "metadata": {},
     "output_type": "execute_result"
    }
   ],
   "source": [
    "list_example=[''' I'm ''',22,'years','old']\n",
    "list_example[-1]"
   ]
  },
  {
   "cell_type": "code",
   "execution_count": 50,
   "id": "0dc1185f",
   "metadata": {},
   "outputs": [
    {
     "data": {
      "text/plain": [
       "[\" I'm \", 22]"
      ]
     },
     "execution_count": 50,
     "metadata": {},
     "output_type": "execute_result"
    }
   ],
   "source": [
    "list_example=[''' I'm ''',22,'years','old']\n",
    "list_example[0:2]"
   ]
  },
  {
   "cell_type": "code",
   "execution_count": 52,
   "id": "6da0c284",
   "metadata": {},
   "outputs": [
    {
     "data": {
      "text/plain": [
       "['old', 'years', 22, \" I'm \"]"
      ]
     },
     "execution_count": 52,
     "metadata": {},
     "output_type": "execute_result"
    }
   ],
   "source": [
    "\n",
    "list_example=[''' I'm ''',22,'years','old']\n",
    "list_example[::-1] #reverse_the_list"
   ]
  },
  {
   "cell_type": "code",
   "execution_count": 54,
   "id": "61c7c2f5",
   "metadata": {},
   "outputs": [
    {
     "data": {
      "text/plain": [
       "[['Yogeshvar', 'is', 'good', 'boy'], [\" I'm \", 22, 'years', 'old']]"
      ]
     },
     "execution_count": 54,
     "metadata": {},
     "output_type": "execute_result"
    }
   ],
   "source": [
    "list_example1=['Yogeshvar','is','good','boy']\n",
    "list_example2=[''' I'm ''',22,'years','old']\n",
    "list_examples=[list_example1,list_example2]\n",
    "list_examples"
   ]
  },
  {
   "cell_type": "code",
   "execution_count": 55,
   "id": "835454dd",
   "metadata": {},
   "outputs": [
    {
     "data": {
      "text/plain": [
       "{'Yogeshvar': 'calm', 'Praveen': 'chill'}"
      ]
     },
     "execution_count": 55,
     "metadata": {},
     "output_type": "execute_result"
    }
   ],
   "source": [
    "dictionary_example={'Yogeshvar':'calm','Praveen':'chill'}\n",
    "dictionary_example"
   ]
  },
  {
   "cell_type": "code",
   "execution_count": 56,
   "id": "e6dc4888",
   "metadata": {},
   "outputs": [
    {
     "data": {
      "text/plain": [
       "{'Yogeshvar': ['calm', 22], 'Praveen': 'chill'}"
      ]
     },
     "execution_count": 56,
     "metadata": {},
     "output_type": "execute_result"
    }
   ],
   "source": [
    "dictionary_example={'Yogeshvar':['calm',22],'Praveen':'chill'}\n",
    "dictionary_example"
   ]
  },
  {
   "cell_type": "code",
   "execution_count": 58,
   "id": "9f5d3680",
   "metadata": {},
   "outputs": [
    {
     "data": {
      "text/plain": [
       "{'Yogeshvar': 'calm', 'Praveen': 'chill'}"
      ]
     },
     "execution_count": 58,
     "metadata": {},
     "output_type": "execute_result"
    }
   ],
   "source": [
    "dictionary={}\n",
    "dictionary['Yogeshvar']='calm'\n",
    "dictionary['Praveen']='chill'\n",
    "dictionary"
   ]
  },
  {
   "cell_type": "code",
   "execution_count": 60,
   "id": "fb35ac3d",
   "metadata": {},
   "outputs": [
    {
     "data": {
      "text/plain": [
       "['calm', 22]"
      ]
     },
     "execution_count": 60,
     "metadata": {},
     "output_type": "execute_result"
    }
   ],
   "source": [
    "dictionary_example={'Yogeshvar':['calm',22],'Praveen':'chill'}\n",
    "dictionary_example['Yogeshvar']"
   ]
  },
  {
   "cell_type": "code",
   "execution_count": 61,
   "id": "ca1b617f",
   "metadata": {},
   "outputs": [
    {
     "data": {
      "text/plain": [
       "22"
      ]
     },
     "execution_count": 61,
     "metadata": {},
     "output_type": "execute_result"
    }
   ],
   "source": [
    "dictionary_example={'Yogeshvar':['calm',22],'Praveen':'chill'}\n",
    "dictionary_example['Yogeshvar'][1] #calling list by indexing"
   ]
  },
  {
   "cell_type": "code",
   "execution_count": 62,
   "id": "e6ecd40d",
   "metadata": {},
   "outputs": [
    {
     "data": {
      "text/plain": [
       "[22, 'calm']"
      ]
     },
     "execution_count": 62,
     "metadata": {},
     "output_type": "execute_result"
    }
   ],
   "source": [
    "dictionary_example={'Yogeshvar':['calm',22],'Praveen':'chill'}\n",
    "dictionary_example['Yogeshvar'][::-1]#reversing list"
   ]
  },
  {
   "cell_type": "code",
   "execution_count": 63,
   "id": "6708b8b3",
   "metadata": {},
   "outputs": [
    {
     "data": {
      "text/plain": [
       "dict_keys(['Yogeshvar', 'Praveen'])"
      ]
     },
     "execution_count": 63,
     "metadata": {},
     "output_type": "execute_result"
    }
   ],
   "source": [
    "dictionary_example={'Yogeshvar':['calm',22],'Praveen':'chill'}\n",
    "dictionary_example.keys()"
   ]
  },
  {
   "cell_type": "code",
   "execution_count": 64,
   "id": "62ad8e99",
   "metadata": {},
   "outputs": [
    {
     "data": {
      "text/plain": [
       "dict_values([['calm', 22], 'chill'])"
      ]
     },
     "execution_count": 64,
     "metadata": {},
     "output_type": "execute_result"
    }
   ],
   "source": [
    "dictionary_example={'Yogeshvar':['calm',22],'Praveen':'chill'}\n",
    "dictionary_example.values()"
   ]
  },
  {
   "cell_type": "code",
   "execution_count": 72,
   "id": "e4f22f31",
   "metadata": {},
   "outputs": [
    {
     "data": {
      "text/plain": [
       "{'Praveen': {'Ragul': 'Friends'}}"
      ]
     },
     "execution_count": 72,
     "metadata": {},
     "output_type": "execute_result"
    }
   ],
   "source": [
    "dictionary_example={'Yogeshvar':{\"Praveen\":{\"Ragul\":'Friends'}}}\n",
    "dictionary_example['Yogeshvar']\n"
   ]
  },
  {
   "cell_type": "code",
   "execution_count": 71,
   "id": "34e7cc13",
   "metadata": {},
   "outputs": [
    {
     "data": {
      "text/plain": [
       "{'Ragul': 'Friends'}"
      ]
     },
     "execution_count": 71,
     "metadata": {},
     "output_type": "execute_result"
    }
   ],
   "source": [
    "dictionary_example={'Yogeshvar':{\"Praveen\":{\"Ragul\":'Friends'}}}\n",
    "dictionary_example['Yogeshvar']['Praveen']\n"
   ]
  },
  {
   "cell_type": "code",
   "execution_count": 70,
   "id": "380797f1",
   "metadata": {},
   "outputs": [
    {
     "data": {
      "text/plain": [
       "'Friends'"
      ]
     },
     "execution_count": 70,
     "metadata": {},
     "output_type": "execute_result"
    }
   ],
   "source": [
    "dictionary_example={'Yogeshvar':{\"Praveen\":{\"Ragul\":'Friends'}}}\n",
    "dictionary_example['Yogeshvar']['Praveen']['Ragul']"
   ]
  },
  {
   "cell_type": "code",
   "execution_count": 74,
   "id": "8589931f",
   "metadata": {},
   "outputs": [
    {
     "data": {
      "text/plain": [
       "(1, 2, 3, 4, 5, 6)"
      ]
     },
     "execution_count": 74,
     "metadata": {},
     "output_type": "execute_result"
    }
   ],
   "source": [
    "tuples_example=(1,2,3,4,5,6)\n",
    "tuples_example"
   ]
  },
  {
   "cell_type": "code",
   "execution_count": 75,
   "id": "05cd25a0",
   "metadata": {},
   "outputs": [
    {
     "data": {
      "text/plain": [
       "('a', 'e', 'i', 'o', 'u')"
      ]
     },
     "execution_count": 75,
     "metadata": {},
     "output_type": "execute_result"
    }
   ],
   "source": [
    "tuples_example=('a','e','i','o','u')\n",
    "tuples_example"
   ]
  },
  {
   "cell_type": "code",
   "execution_count": 76,
   "id": "766925b7",
   "metadata": {},
   "outputs": [
    {
     "data": {
      "text/plain": [
       "'a'"
      ]
     },
     "execution_count": 76,
     "metadata": {},
     "output_type": "execute_result"
    }
   ],
   "source": [
    "tuples_example=('a','e','i','o','u')\n",
    "tuples_example[0]"
   ]
  },
  {
   "cell_type": "code",
   "execution_count": 77,
   "id": "452e1d99",
   "metadata": {},
   "outputs": [
    {
     "ename": "TypeError",
     "evalue": "'tuple' object does not support item assignment",
     "output_type": "error",
     "traceback": [
      "\u001b[1;31m---------------------------------------------------------------------------\u001b[0m",
      "\u001b[1;31mTypeError\u001b[0m                                 Traceback (most recent call last)",
      "\u001b[1;32m<ipython-input-77-539bde0ce4f9>\u001b[0m in \u001b[0;36m<module>\u001b[1;34m\u001b[0m\n\u001b[0;32m      1\u001b[0m \u001b[0mtuples_example\u001b[0m\u001b[1;33m=\u001b[0m\u001b[1;33m(\u001b[0m\u001b[1;34m'a'\u001b[0m\u001b[1;33m,\u001b[0m\u001b[1;34m'e'\u001b[0m\u001b[1;33m,\u001b[0m\u001b[1;34m'i'\u001b[0m\u001b[1;33m,\u001b[0m\u001b[1;34m'o'\u001b[0m\u001b[1;33m,\u001b[0m\u001b[1;34m'u'\u001b[0m\u001b[1;33m)\u001b[0m\u001b[1;33m\u001b[0m\u001b[1;33m\u001b[0m\u001b[0m\n\u001b[1;32m----> 2\u001b[1;33m \u001b[0mtuples_example\u001b[0m\u001b[1;33m[\u001b[0m\u001b[1;36m0\u001b[0m\u001b[1;33m]\u001b[0m\u001b[1;33m=\u001b[0m\u001b[1;34m'y'\u001b[0m\u001b[1;33m\u001b[0m\u001b[1;33m\u001b[0m\u001b[0m\n\u001b[0m",
      "\u001b[1;31mTypeError\u001b[0m: 'tuple' object does not support item assignment"
     ]
    }
   ],
   "source": [
    "tuples_example=('a','e','i','o','u')\n",
    "tuples_example[0]='y'"
   ]
  },
  {
   "cell_type": "code",
   "execution_count": 91,
   "id": "6febfe8f",
   "metadata": {},
   "outputs": [
    {
     "data": {
      "text/plain": [
       "{4, 44}"
      ]
     },
     "execution_count": 91,
     "metadata": {},
     "output_type": "execute_result"
    }
   ],
   "source": [
    "sets_Example=[4,44,4,4,4,4,4]\n",
    "set(sets_Example)"
   ]
  },
  {
   "cell_type": "code",
   "execution_count": 85,
   "id": "192c3053",
   "metadata": {},
   "outputs": [
    {
     "data": {
      "text/plain": [
       "[4, 5, 9, 8, 1]"
      ]
     },
     "execution_count": 85,
     "metadata": {},
     "output_type": "execute_result"
    }
   ],
   "source": [
    "reassigning_items=[4,5,9,8,1]\n",
    "reassigning_items"
   ]
  },
  {
   "cell_type": "code",
   "execution_count": 88,
   "id": "fcc9acd5",
   "metadata": {},
   "outputs": [
    {
     "data": {
      "text/plain": [
       "[4, 5, 9, 8, 1, 5]"
      ]
     },
     "execution_count": 88,
     "metadata": {},
     "output_type": "execute_result"
    }
   ],
   "source": [
    "reassigning_items+ [5]"
   ]
  },
  {
   "cell_type": "code",
   "execution_count": 89,
   "id": "f8ed974a",
   "metadata": {},
   "outputs": [
    {
     "data": {
      "text/plain": [
       "[4, 5, 9, 8, 1]"
      ]
     },
     "execution_count": 89,
     "metadata": {},
     "output_type": "execute_result"
    }
   ],
   "source": [
    "reassigning_items #It didnt reflect in list after appending new "
   ]
  },
  {
   "cell_type": "code",
   "execution_count": 90,
   "id": "c25ef9a2",
   "metadata": {},
   "outputs": [
    {
     "data": {
      "text/plain": [
       "[4, 5, 9, 8, 1, 5]"
      ]
     },
     "execution_count": 90,
     "metadata": {},
     "output_type": "execute_result"
    }
   ],
   "source": [
    "reassigning_items=reassigning_items+ [5]\n",
    "reassigning_items"
   ]
  },
  {
   "cell_type": "code",
   "execution_count": null,
   "id": "83bcc4b7",
   "metadata": {},
   "outputs": [],
   "source": []
  }
 ],
 "metadata": {
  "kernelspec": {
   "display_name": "Python 3",
   "language": "python",
   "name": "python3"
  },
  "language_info": {
   "codemirror_mode": {
    "name": "ipython",
    "version": 3
   },
   "file_extension": ".py",
   "mimetype": "text/x-python",
   "name": "python",
   "nbconvert_exporter": "python",
   "pygments_lexer": "ipython3",
   "version": "3.8.8"
  }
 },
 "nbformat": 4,
 "nbformat_minor": 5
}
